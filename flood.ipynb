{
  "nbformat": 4,
  "nbformat_minor": 0,
  "metadata": {
    "accelerator": "GPU",
    "colab": {
      "name": "flood.ipynb",
      "provenance": [],
      "collapsed_sections": []
    },
    "kernelspec": {
      "display_name": "Python 3",
      "language": "python",
      "name": "python3"
    },
    "language_info": {
      "codemirror_mode": {
        "name": "ipython",
        "version": 3
      },
      "file_extension": ".py",
      "mimetype": "text/x-python",
      "name": "python",
      "nbconvert_exporter": "python",
      "pygments_lexer": "ipython3",
      "version": "3.7.6"
    }
  },
  "cells": [
    {
      "cell_type": "markdown",
      "metadata": {
        "colab_type": "text",
        "id": "view-in-github"
      },
      "source": [
        "<a href=\"https://colab.research.google.com/github/DariusTheGeek/Flood-Prediction-in-Malawi--Zindi-Competition/blob/master/Malawi_Flood_Prediction__starter_code__by_DariusMoruri.ipynb\" target=\"_parent\"><img src=\"https://colab.research.google.com/assets/colab-badge.svg\" alt=\"Open In Colab\"/></a>"
      ]
    },
    {
      "cell_type": "markdown",
      "metadata": {
        "colab_type": "text",
        "id": "KPejNILARlEE"
      },
      "source": [
        "## Importing the Necessary Libraries"
      ]
    },
    {
      "cell_type": "code",
      "metadata": {
        "colab_type": "code",
        "id": "QAXGhwzWHLpq",
        "colab": {}
      },
      "source": [
        "import pandas as pd\n",
        "import lightgbm as lgb\n",
        "import numpy as np"
      ],
      "execution_count": null,
      "outputs": []
    },
    {
      "cell_type": "markdown",
      "metadata": {
        "id": "dRyEMR9089K3",
        "colab_type": "text"
      },
      "source": [
        "### numpy version '1.18.2'"
      ]
    },
    {
      "cell_type": "code",
      "metadata": {
        "id": "zuPoVPG889K3",
        "colab_type": "code",
        "colab": {},
        "outputId": "7f92a883-daf1-4ebe-cea9-005d4b7ef549"
      },
      "source": [
        "np.__version__"
      ],
      "execution_count": null,
      "outputs": [
        {
          "output_type": "execute_result",
          "data": {
            "text/plain": [
              "'1.18.2'"
            ]
          },
          "metadata": {
            "tags": []
          },
          "execution_count": 455
        }
      ]
    },
    {
      "cell_type": "markdown",
      "metadata": {
        "id": "DO8Rwquh89K7",
        "colab_type": "text"
      },
      "source": [
        "### pandas version '1.0.1'"
      ]
    },
    {
      "cell_type": "code",
      "metadata": {
        "id": "8lM3-Uib89K7",
        "colab_type": "code",
        "colab": {},
        "outputId": "70120a53-4dd4-41e7-befe-7a4451a6a9c4"
      },
      "source": [
        "pd.__version__"
      ],
      "execution_count": null,
      "outputs": [
        {
          "output_type": "execute_result",
          "data": {
            "text/plain": [
              "'1.0.1'"
            ]
          },
          "metadata": {
            "tags": []
          },
          "execution_count": 456
        }
      ]
    },
    {
      "cell_type": "markdown",
      "metadata": {
        "id": "xzLTOH_e89K-",
        "colab_type": "text"
      },
      "source": [
        "### lightgbm version 2.3.1"
      ]
    },
    {
      "cell_type": "code",
      "metadata": {
        "id": "j5SrpFlF89K_",
        "colab_type": "code",
        "colab": {},
        "outputId": "aef045ea-60a7-4967-d5be-fa8dcb017fb3"
      },
      "source": [
        "!pip install lightgbm==2.3.1\n",
        "lgb.__version__"
      ],
      "execution_count": null,
      "outputs": [
        {
          "output_type": "stream",
          "text": [
            "Requirement already satisfied: lightgbm==2.3.1 in d:\\conda\\lib\\site-packages (2.3.1)\n",
            "Requirement already satisfied: numpy in d:\\conda\\lib\\site-packages (from lightgbm==2.3.1) (1.18.2)\n",
            "Requirement already satisfied: scipy in d:\\conda\\lib\\site-packages (from lightgbm==2.3.1) (1.4.1)\n",
            "Requirement already satisfied: scikit-learn in d:\\conda\\lib\\site-packages (from lightgbm==2.3.1) (0.22.1)\n",
            "Requirement already satisfied: joblib>=0.11 in d:\\conda\\lib\\site-packages (from scikit-learn->lightgbm==2.3.1) (0.14.1)\n"
          ],
          "name": "stdout"
        },
        {
          "output_type": "stream",
          "text": [
            "Le chemin d'accŠs sp‚cifi‚ est introuvable.\n"
          ],
          "name": "stderr"
        },
        {
          "output_type": "execute_result",
          "data": {
            "text/plain": [
              "'2.3.1'"
            ]
          },
          "metadata": {
            "tags": []
          },
          "execution_count": 457
        }
      ]
    },
    {
      "cell_type": "markdown",
      "metadata": {
        "colab_type": "text",
        "id": "AWbBYTZSRoIH"
      },
      "source": [
        "## Reading the Data"
      ]
    },
    {
      "cell_type": "code",
      "metadata": {
        "colab_type": "code",
        "id": "FZTl-W7uHe3Y",
        "colab": {}
      },
      "source": [
        "\n",
        "sub = pd.read_csv('SampleSubmission (1).csv')\n"
      ],
      "execution_count": null,
      "outputs": []
    },
    {
      "cell_type": "code",
      "metadata": {
        "id": "OHIKqSUC89LF",
        "colab_type": "code",
        "colab": {}
      },
      "source": [
        "df=pd.read_csv('Train.csv')"
      ],
      "execution_count": null,
      "outputs": []
    },
    {
      "cell_type": "markdown",
      "metadata": {
        "colab_type": "text",
        "id": "EDdJqbOWR_Mw"
      },
      "source": [
        "## Data Cleaning"
      ]
    },
    {
      "cell_type": "markdown",
      "metadata": {
        "colab_type": "text",
        "id": "pKS5LhlvSxTp"
      },
      "source": [
        "### for this part I have used the start code: https://github.com/DariusTheGeek/Flood-Prediction-in-Malawi--Zindi-Competition to prepare the train and the test"
      ]
    },
    {
      "cell_type": "code",
      "metadata": {
        "colab_type": "code",
        "id": "od6oWJvdTV1K",
        "colab": {
          "base_uri": "https://localhost:8080/",
          "height": 311
        },
        "outputId": "4c0b0ada-b1c5-4b4d-8d20-784d91c224d3"
      },
      "source": [
        "precip_features_2019 = []\n",
        "precip_features_2015 = []\n",
        "for col in df.columns:\n",
        "    if '2019' in col:\n",
        "        precip_features_2019.append(col)\n",
        "    elif 'precip 2014' in col:\n",
        "        precip_features_2015.append(col)\n",
        "    elif 'precip 2015' in col:\n",
        "        precip_features_2015.append(col)\n",
        "train=tain = df[df.columns.difference(precip_features_2019)]\n",
        "precip_features_2019.extend(['X',\t'Y',\t'elevation', 'LC_Type1_mode',\t'Square_ID'])\n",
        "test = df[precip_features_2019]\n",
        "new_2015_cols = {}\n",
        "for col, number in zip(precip_features_2015, range(1, len(precip_features_2015) + 1)):\n",
        "\n",
        "    if 'precip' in col:\n",
        "        new_2015_cols[col] = 'week_' + str(number) + '_precip'\n",
        "new_2019_cols = {}\n",
        "for col, number in zip(precip_features_2019, range(1, len(precip_features_2019) + 1)):\n",
        "    if 'precip' in col:\n",
        "        new_2019_cols[col] = 'week_' + str(number) + '_precip'\n",
        "train.rename(columns = new_2015_cols, inplace = True)\n",
        "test.rename(columns = new_2019_cols, inplace = True)\n",
        "target = train.target_2015\n",
        "train, test = train.align(test, join = 'inner', axis = 1)\n",
        "from sklearn.model_selection import train_test_split\n",
        "from sklearn.metrics import mean_squared_error,mean_absolute_error\n",
        "X = train.drop(['Square_ID'], axis = 1)\n",
        "y = target"
      ],
      "execution_count": null,
      "outputs": [
        {
          "output_type": "stream",
          "text": [
            "D:\\conda\\lib\\site-packages\\pandas\\core\\frame.py:4133: SettingWithCopyWarning: \n",
            "A value is trying to be set on a copy of a slice from a DataFrame\n",
            "\n",
            "See the caveats in the documentation: https://pandas.pydata.org/pandas-docs/stable/user_guide/indexing.html#returning-a-view-versus-a-copy\n",
            "  errors=errors,\n"
          ],
          "name": "stderr"
        }
      ]
    },
    {
      "cell_type": "markdown",
      "metadata": {
        "id": "jDUlkC_y89LM",
        "colab_type": "text"
      },
      "source": [
        "### key point: The flood may occur in consequence of heavy precipitation that occur during a period less than 18 weeks. For that reason we have just worked on the period with a continuios heavy precip.\n"
      ]
    },
    {
      "cell_type": "code",
      "metadata": {
        "id": "F1-pIny889LN",
        "colab_type": "code",
        "colab": {},
        "outputId": "67390a28-8695-4d44-ae03-b207f7465c4a"
      },
      "source": [
        "train[train.columns[5:-1]].describe().loc[['mean']]"
      ],
      "execution_count": null,
      "outputs": [
        {
          "output_type": "execute_result",
          "data": {
            "text/html": [
              "<div>\n",
              "<style scoped>\n",
              "    .dataframe tbody tr th:only-of-type {\n",
              "        vertical-align: middle;\n",
              "    }\n",
              "\n",
              "    .dataframe tbody tr th {\n",
              "        vertical-align: top;\n",
              "    }\n",
              "\n",
              "    .dataframe thead th {\n",
              "        text-align: right;\n",
              "    }\n",
              "</style>\n",
              "<table border=\"1\" class=\"dataframe\">\n",
              "  <thead>\n",
              "    <tr style=\"text-align: right;\">\n",
              "      <th></th>\n",
              "      <th>week_1_precip</th>\n",
              "      <th>week_2_precip</th>\n",
              "      <th>week_3_precip</th>\n",
              "      <th>week_4_precip</th>\n",
              "      <th>week_5_precip</th>\n",
              "      <th>week_6_precip</th>\n",
              "      <th>week_7_precip</th>\n",
              "      <th>week_8_precip</th>\n",
              "      <th>week_9_precip</th>\n",
              "      <th>week_10_precip</th>\n",
              "      <th>week_11_precip</th>\n",
              "      <th>week_12_precip</th>\n",
              "      <th>week_13_precip</th>\n",
              "      <th>week_14_precip</th>\n",
              "      <th>week_15_precip</th>\n",
              "      <th>week_16_precip</th>\n",
              "    </tr>\n",
              "  </thead>\n",
              "  <tbody>\n",
              "    <tr>\n",
              "      <th>mean</th>\n",
              "      <td>1.299748</td>\n",
              "      <td>1.882648</td>\n",
              "      <td>0.852641</td>\n",
              "      <td>8.367555</td>\n",
              "      <td>9.023455</td>\n",
              "      <td>9.657713</td>\n",
              "      <td>23.25205</td>\n",
              "      <td>28.164769</td>\n",
              "      <td>57.42755</td>\n",
              "      <td>1.149752</td>\n",
              "      <td>34.701142</td>\n",
              "      <td>28.358295</td>\n",
              "      <td>12.323302</td>\n",
              "      <td>3.629145</td>\n",
              "      <td>17.214365</td>\n",
              "      <td>8.887374</td>\n",
              "    </tr>\n",
              "  </tbody>\n",
              "</table>\n",
              "</div>"
            ],
            "text/plain": [
              "      week_1_precip  week_2_precip  week_3_precip  week_4_precip  \\\n",
              "mean       1.299748       1.882648       0.852641       8.367555   \n",
              "\n",
              "      week_5_precip  week_6_precip  week_7_precip  week_8_precip  \\\n",
              "mean       9.023455       9.657713       23.25205      28.164769   \n",
              "\n",
              "      week_9_precip  week_10_precip  week_11_precip  week_12_precip  \\\n",
              "mean       57.42755        1.149752       34.701142       28.358295   \n",
              "\n",
              "      week_13_precip  week_14_precip  week_15_precip  week_16_precip  \n",
              "mean       12.323302        3.629145       17.214365        8.887374  "
            ]
          },
          "metadata": {
            "tags": []
          },
          "execution_count": 461
        }
      ]
    },
    {
      "cell_type": "markdown",
      "metadata": {
        "id": "BZIO8h3B89LP",
        "colab_type": "text"
      },
      "source": [
        "### Max precip within 2 weeks"
      ]
    },
    {
      "cell_type": "code",
      "metadata": {
        "id": "EcHfsX7M89LQ",
        "colab_type": "code",
        "colab": {}
      },
      "source": [
        "train['week_7_precip_']=train['week_7_precip']+train['week_6_precip']\n",
        "test['week_7_precip_']=test['week_7_precip']+test['week_6_precip']\n",
        "train['week_8_precip_']=train['week_8_precip']+train['week_7_precip']\n",
        "test['week_8_precip_']=test['week_8_precip']+test['week_7_precip']\n",
        "train['week_9_precip_']=train['week_9_precip']+train['week_8_precip']\n",
        "test['week_9_precip_']=test['week_9_precip']+test['week_8_precip']\n",
        "train['max_2_weeks']=train[['week_7_precip_','week_8_precip_','week_9_precip_']].apply(np.max,axis=1)\n",
        "test['max_2_weeks']=test[['week_7_precip_','week_8_precip_','week_9_precip_']].apply(np.max,axis=1) "
      ],
      "execution_count": null,
      "outputs": []
    },
    {
      "cell_type": "code",
      "metadata": {
        "id": "aV8hcwRL89LS",
        "colab_type": "code",
        "colab": {}
      },
      "source": [
        "\n",
        "X1=train[['LC_Type1_mode', 'X', 'Y', 'elevation','week_7_precip', 'week_8_precip', 'week_9_precip','max_2_weeks']]\n",
        "sub1=test[['LC_Type1_mode', 'X', 'Y', 'elevation','week_7_precip', 'week_8_precip', 'week_9_precip','max_2_weeks']]\n",
        "X1.columns=sub1.columns\n"
      ],
      "execution_count": null,
      "outputs": []
    },
    {
      "cell_type": "markdown",
      "metadata": {
        "id": "pO31gMXl89LU",
        "colab_type": "text"
      },
      "source": [
        "### Index of the week within the max of precip"
      ]
    },
    {
      "cell_type": "code",
      "metadata": {
        "id": "jNdOyz5W89LV",
        "colab_type": "code",
        "colab": {},
        "outputId": "0ec284e9-2fbf-4f7f-966a-3f45ebd9eb9c"
      },
      "source": [
        "def index(col):\n",
        "    l=list(col)\n",
        "    return l.index(max(l))\n",
        "\n",
        "X1['max_index']=train[['week_6_precip', 'week_7_precip', 'week_8_precip','week_9_precip']].apply(index,axis=1)\n",
        "sub1['max_index']=test[['week_6_precip', 'week_7_precip', 'week_8_precip','week_9_precip']].apply(index,axis=1)\n",
        "\n"
      ],
      "execution_count": null,
      "outputs": [
        {
          "output_type": "stream",
          "text": [
            "D:\\conda\\lib\\site-packages\\ipykernel_launcher.py:5: SettingWithCopyWarning: \n",
            "A value is trying to be set on a copy of a slice from a DataFrame.\n",
            "Try using .loc[row_indexer,col_indexer] = value instead\n",
            "\n",
            "See the caveats in the documentation: https://pandas.pydata.org/pandas-docs/stable/user_guide/indexing.html#returning-a-view-versus-a-copy\n",
            "  \"\"\"\n",
            "D:\\conda\\lib\\site-packages\\ipykernel_launcher.py:6: SettingWithCopyWarning: \n",
            "A value is trying to be set on a copy of a slice from a DataFrame.\n",
            "Try using .loc[row_indexer,col_indexer] = value instead\n",
            "\n",
            "See the caveats in the documentation: https://pandas.pydata.org/pandas-docs/stable/user_guide/indexing.html#returning-a-view-versus-a-copy\n",
            "  \n"
          ],
          "name": "stderr"
        }
      ]
    },
    {
      "cell_type": "markdown",
      "metadata": {
        "id": "h30C0WWY89LX",
        "colab_type": "text"
      },
      "source": [
        "### Precip variation over different weeks"
      ]
    },
    {
      "cell_type": "code",
      "metadata": {
        "id": "v2OWYG5n89LX",
        "colab_type": "code",
        "colab": {},
        "outputId": "d4ac5886-f4fc-4cef-877f-5dc09d045e5c"
      },
      "source": [
        "sub1['slope_8_7']=((test['week_8_precip']/test['week_7_precip'])>1)*1\n",
        "X1['slope_8_7']=((train['week_8_precip']/train['week_7_precip'])>1)*1\n",
        "\n",
        "\n",
        "sub1['slope_9_8']=((test['week_9_precip']/test['week_8_precip'])>1)*1\n",
        "X1['slope_9_8']=((train['week_9_precip']/train['week_8_precip'])>1)*1\n"
      ],
      "execution_count": null,
      "outputs": [
        {
          "output_type": "stream",
          "text": [
            "D:\\conda\\lib\\site-packages\\ipykernel_launcher.py:1: SettingWithCopyWarning: \n",
            "A value is trying to be set on a copy of a slice from a DataFrame.\n",
            "Try using .loc[row_indexer,col_indexer] = value instead\n",
            "\n",
            "See the caveats in the documentation: https://pandas.pydata.org/pandas-docs/stable/user_guide/indexing.html#returning-a-view-versus-a-copy\n",
            "  \"\"\"Entry point for launching an IPython kernel.\n",
            "D:\\conda\\lib\\site-packages\\ipykernel_launcher.py:2: SettingWithCopyWarning: \n",
            "A value is trying to be set on a copy of a slice from a DataFrame.\n",
            "Try using .loc[row_indexer,col_indexer] = value instead\n",
            "\n",
            "See the caveats in the documentation: https://pandas.pydata.org/pandas-docs/stable/user_guide/indexing.html#returning-a-view-versus-a-copy\n",
            "  \n",
            "D:\\conda\\lib\\site-packages\\ipykernel_launcher.py:5: SettingWithCopyWarning: \n",
            "A value is trying to be set on a copy of a slice from a DataFrame.\n",
            "Try using .loc[row_indexer,col_indexer] = value instead\n",
            "\n",
            "See the caveats in the documentation: https://pandas.pydata.org/pandas-docs/stable/user_guide/indexing.html#returning-a-view-versus-a-copy\n",
            "  \"\"\"\n",
            "D:\\conda\\lib\\site-packages\\ipykernel_launcher.py:6: SettingWithCopyWarning: \n",
            "A value is trying to be set on a copy of a slice from a DataFrame.\n",
            "Try using .loc[row_indexer,col_indexer] = value instead\n",
            "\n",
            "See the caveats in the documentation: https://pandas.pydata.org/pandas-docs/stable/user_guide/indexing.html#returning-a-view-versus-a-copy\n",
            "  \n"
          ],
          "name": "stderr"
        }
      ]
    },
    {
      "cell_type": "markdown",
      "metadata": {
        "id": "f7B9qbyF89La",
        "colab_type": "text"
      },
      "source": [
        "### outlier detection"
      ]
    },
    {
      "cell_type": "code",
      "metadata": {
        "id": "Za1FAVQb89La",
        "colab_type": "code",
        "colab": {},
        "outputId": "20bc12e5-94f9-49b8-b9f7-b120426fb71c"
      },
      "source": [
        "from sklearn.covariance import EllipticEnvelope\n",
        "clf2 = EllipticEnvelope(contamination=.17,random_state=0)\n",
        "clf2.fit(X1)\n",
        "ee_scores = pd.Series(clf2.decision_function(X1))\n",
        "clusters2 = clf2.predict(X1)\n",
        "X1['target']=target\n",
        "X1['pred']=clusters2\n",
        "X1=X1[X1['pred']!=-1]\n",
        "X1,y=X1.drop(columns=['pred','target']),X1['target']"
      ],
      "execution_count": null,
      "outputs": [
        {
          "output_type": "stream",
          "text": [
            "D:\\conda\\lib\\site-packages\\sklearn\\covariance\\_robust_covariance.py:170: RuntimeWarning: Determinant has increased; this should not happen: log(det) > log(previous_det) (-62.156597799790795 > -63.517750296664858). You may want to try with a higher value of support_fraction (current value: 0.503).\n",
            "  RuntimeWarning)\n",
            "D:\\conda\\lib\\site-packages\\sklearn\\covariance\\_robust_covariance.py:170: RuntimeWarning: Determinant has increased; this should not happen: log(det) > log(previous_det) (-60.551761565457447 > -61.007147944574804). You may want to try with a higher value of support_fraction (current value: 0.503).\n",
            "  RuntimeWarning)\n",
            "D:\\conda\\lib\\site-packages\\sklearn\\covariance\\_robust_covariance.py:170: RuntimeWarning: Determinant has increased; this should not happen: log(det) > log(previous_det) (-61.346057144722828 > -61.944318737644792). You may want to try with a higher value of support_fraction (current value: 0.501).\n",
            "  RuntimeWarning)\n",
            "D:\\conda\\lib\\site-packages\\ipykernel_launcher.py:6: SettingWithCopyWarning: \n",
            "A value is trying to be set on a copy of a slice from a DataFrame.\n",
            "Try using .loc[row_indexer,col_indexer] = value instead\n",
            "\n",
            "See the caveats in the documentation: https://pandas.pydata.org/pandas-docs/stable/user_guide/indexing.html#returning-a-view-versus-a-copy\n",
            "  \n",
            "D:\\conda\\lib\\site-packages\\ipykernel_launcher.py:7: SettingWithCopyWarning: \n",
            "A value is trying to be set on a copy of a slice from a DataFrame.\n",
            "Try using .loc[row_indexer,col_indexer] = value instead\n",
            "\n",
            "See the caveats in the documentation: https://pandas.pydata.org/pandas-docs/stable/user_guide/indexing.html#returning-a-view-versus-a-copy\n",
            "  import sys\n"
          ],
          "name": "stderr"
        }
      ]
    },
    {
      "cell_type": "markdown",
      "metadata": {
        "id": "bgrizAsf89Lf",
        "colab_type": "text"
      },
      "source": [
        "### using Soil organic carbon stock: (external data):\n",
        "### extrcted from \"https://soilgrids.org/\"\n"
      ]
    },
    {
      "cell_type": "code",
      "metadata": {
        "id": "JuQLRb7v89Lg",
        "colab_type": "code",
        "colab": {}
      },
      "source": [
        "s=pd.read_csv('ss.csv')\n",
        "s.drop(columns='_soilvarie',axis=1,inplace=True)\n",
        "X1=X1.merge(s,on=['X','Y'],how='left')\n",
        "sub1=sub1.merge(s,on=['X','Y'],how='left')"
      ],
      "execution_count": null,
      "outputs": []
    },
    {
      "cell_type": "code",
      "metadata": {
        "id": "RKS_v9vw89Li",
        "colab_type": "code",
        "colab": {}
      },
      "source": [
        "def metric(predictions, targets):\n",
        "    return np.sqrt(((predictions - targets) ** 2).mean())"
      ],
      "execution_count": null,
      "outputs": []
    },
    {
      "cell_type": "markdown",
      "metadata": {
        "id": "uDD9_lMx89Ln",
        "colab_type": "text"
      },
      "source": [
        "### Training model"
      ]
    },
    {
      "cell_type": "code",
      "metadata": {
        "id": "unw_vtrE89Ln",
        "colab_type": "code",
        "colab": {},
        "outputId": "f4f61a10-35a7-4f64-9371-2778c5f183aa"
      },
      "source": [
        "params = { 'learning_rate':0.07,'max_depth':8}\n",
        "X=X1\n",
        "X_test=sub1\n",
        "\n",
        "n_estimators = 221\n",
        "\n",
        "n_iters = 5\n",
        "preds_buf = []\n",
        "err_buf = []\n",
        "for i in range(n_iters): \n",
        "    x_train, x_valid, y_train, y_valid = train_test_split(X, y, test_size=0.2, random_state=i)\n",
        "    d_train = lgb.Dataset(x_train, label=y_train)\n",
        "    d_valid = lgb.Dataset(x_valid, label=y_valid)\n",
        "    watchlist = [d_valid]\n",
        "\n",
        "    model = lgb.train(params, d_train, n_estimators, watchlist, verbose_eval=1)\n",
        "\n",
        "    preds = model.predict(x_valid)\n",
        "   \n",
        " \n",
        "    err_buf.append(metric(model.predict(x_valid),y_valid))\n",
        "    \n",
        "    \n",
        "    preds = model.predict(X_test)\n",
        "    \n",
        "    preds_buf.append(preds)\n",
        "\n",
        "print('Mean RMSLE = ' + str(np.mean(err_buf)) + ' +/- ' + str(np.std(err_buf)))\n",
        "# Average predictions\n",
        "preds1 = np.mean(preds_buf, axis=0)"
      ],
      "execution_count": null,
      "outputs": [
        {
          "output_type": "stream",
          "text": [
            "Mean RMSLE = 0.06602787044143263 +/- 0.003301317857027148\n"
          ],
          "name": "stdout"
        }
      ]
    },
    {
      "cell_type": "code",
      "metadata": {
        "id": "ClJjY-eP89Lr",
        "colab_type": "code",
        "colab": {}
      },
      "source": [
        "def check(col):\n",
        "    if col<0:\n",
        "        return 0\n",
        "    elif col>1:\n",
        "        return 1\n",
        "    else:\n",
        "        return col\n",
        "preds=preds1\n",
        "preds-=0.08\n",
        "submission_df = pd.DataFrame({'Square_ID': test.Square_ID, 'target_2019': preds}) \n",
        "submission_df['target_2019']=submission_df['target_2019'].apply(check)\n",
        "submission_df.to_csv('lili.csv', index = False)"
      ],
      "execution_count": null,
      "outputs": []
    }
  ]
}